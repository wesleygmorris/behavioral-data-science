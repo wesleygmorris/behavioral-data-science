{
 "cells": [
  {
   "cell_type": "code",
   "execution_count": 1,
   "metadata": {},
   "outputs": [],
   "source": [
    "from dotenv import load_dotenv\n",
    "import os\n",
    "import openai\n",
    "import time\n",
    "load_dotenv() \n",
    "openai.api_key = os.getenv('OPEN_AI')"
   ]
  },
  {
   "cell_type": "code",
   "execution_count": 8,
   "metadata": {},
   "outputs": [],
   "source": [
    "'''\n",
    "This cell imports the dependencies and creates the service context.\n",
    "The service context can either be OpenAI or Tiny-Vicuna-1B\n",
    "'''\n",
    "from llama_index import VectorStoreIndex, SimpleDirectoryReader\n",
    "from llama_index import ServiceContext, llms, PromptTemplate, set_global_service_context\n",
    "\n",
    "# For chatGPT\n",
    "service_context = ServiceContext.from_defaults(\n",
    "    llm=llms.OpenAI(temperature=0.20, model=\"gpt-3.5-turbo\")\n",
    ")\n",
    "\n",
    "\n",
    "# llm = llms.HuggingFaceLLM(\n",
    "#     model_name = \"TinyLlama/TinyLlama-1.1B-Chat-v1.0\",\n",
    "#     tokenizer_name = \"TinyLlama/TinyLlama-1.1B-Chat-v1.0\",)\n",
    "\n",
    "# # For Vicuna\n",
    "# service_context = ServiceContext.from_defaults(\n",
    "#   llm = llms.HuggingFaceLLM(\n",
    "#     model_name = \"TinyLlama/TinyLlama-1.1B-Chat-v1.0\",\n",
    "#     tokenizer_name = \"TinyLlama/TinyLlama-1.1B-Chat-v1.0\",\n",
    "#     query_wrapper_prompt = PromptTemplate(f\"<|system|>\\nYou are a chatbot who can help students!</s>\\n<|user|>\\n{query_str}</s>\\n<|assistant|>\\n\"),\n",
    "#     device_map = \"auto\",\n",
    "#   ),\n",
    "#   embed_model = llms.HuggingFaceLLM(model_name=\"local:BAAI/bge-small-en-v1.5\")\n",
    "# )\n"
   ]
  },
  {
   "cell_type": "code",
   "execution_count": 9,
   "metadata": {},
   "outputs": [
    {
     "name": "stderr",
     "output_type": "stream",
     "text": [
      "Parsing nodes: 100%|██████████| 7/7 [00:00<00:00, 640.23it/s]\n",
      "Generating embeddings: 100%|██████████| 7/7 [00:00<00:00, 19.68it/s]\n"
     ]
    }
   ],
   "source": [
    "set_global_service_context(service_context)\n",
    "# Create the vector store\n",
    "documents = SimpleDirectoryReader(\"documents\").load_data()\n",
    "index = VectorStoreIndex.from_documents(documents, service_context=service_context,\n",
    "                                        show_progress=True)\n",
    "# Save the vector store to file\n",
    "index.storage_context.persist('./index_storage/')\n",
    "# Build the query engine\n",
    "query_engine = index.as_query_engine(\n",
    "    response_mode=\"tree_summarize\",\n",
    "    similarity_top_k=3\n",
    ")"
   ]
  },
  {
   "cell_type": "code",
   "execution_count": 13,
   "metadata": {},
   "outputs": [
    {
     "name": "stdout",
     "output_type": "stream",
     "text": [
      "{'response': 'The first assignment is due on Tuesday.', 'processing_time': 1.5048096179962158, 'page_numbers': ['3', '6', '5'], 'document': {'PSY-GS-8875_Syllabus_S2024.pdf'}}\n"
     ]
    }
   ],
   "source": [
    "# Define a function to put it all together and run the function\n",
    "def get_response(query):\n",
    "    st = time.time()\n",
    "    response = query_engine.query(query)\n",
    "    time_elapsed = time.time()-st\n",
    "    page_numbers = [response.metadata[i]['page_label'] for i in response.metadata]\n",
    "    document_labels = set([response.metadata[i]['file_name'] for i in response.metadata])\n",
    "    return {'response':response.response, 'processing_time':time_elapsed, 'page_numbers':page_numbers, 'document':document_labels}\n",
    "\n",
    "print(get_response('What date is my first assignment due?'))"
   ]
  },
  {
   "cell_type": "code",
   "execution_count": 6,
   "metadata": {},
   "outputs": [
    {
     "data": {
      "text/plain": [
       "('The class is graded based on a combination of activities and a final project. There will be 10 activities throughout the semester, each worth 14 points, which will account for 70% of the final grade. Additionally, there will be 1 final project worth 60 points, which will account for 30% of the final grade. Only the 10 best activity grades will be counted towards the final grade. The grading scale ranges from A (94-100%) to F (<60%).',\n",
       " 1.7700726985931396,\n",
       " ['2', '3', '6'],\n",
       " {'PSY-GS-8875_Syllabus_S2024.pdf'})"
      ]
     },
     "execution_count": 6,
     "metadata": {},
     "output_type": "execute_result"
    }
   ],
   "source": [
    "# Load the vector store from file and run the query again\n",
    "from llama_index import StorageContext, load_index_from_storage\n",
    "storage_context = StorageContext.from_defaults(\n",
    "    persist_dir='./index_storage/'\n",
    ")\n",
    "index = load_index_from_storage(storage_context)\n",
    "get_response('How is the class graded?')"
   ]
  },
  {
   "cell_type": "code",
   "execution_count": 7,
   "metadata": {},
   "outputs": [
    {
     "name": "stdout",
     "output_type": "stream",
     "text": [
      "('The professor for PSY-GS 8875 is Alexander Christensen.', 0.6531496047973633, ['2', '1', '7'], {'PSY-GS-8875_Syllabus_S2024.pdf'})\n",
      "('The grading policy for the course is as follows: There will be 12 activities and 1 final project throughout the semester. Only the 10 best activity grades will count towards the final grade. Activities are due the next Tuesday before class at 11:59:59pm. The activities are worth 70% of the final grade, while the final project is worth 30% of the final grade. The grading scale ranges from A (94-100%) to F (<60%).', 2.290818452835083, ['3', '2', '6'], {'PSY-GS-8875_Syllabus_S2024.pdf'})\n",
      "('You can find data in various resources such as Kaggle datasets, Open Psychometrics, Journal of Open Psychology Data, Open Science Framework, and UCI Machine Learning Repository. Additionally, the Vanderbilt Library provides access to R books, R resources, and free R workshops.', 1.8024470806121826, ['1', '7', '4'], {'PSY-GS-8875_Syllabus_S2024.pdf'})\n"
     ]
    }
   ],
   "source": [
    "for i in ['Who is the professor for PSY-GS 8875?', 'What is the grading policy?',\n",
    "          'Where can I find data?']:\n",
    "    print(get_response(i))"
   ]
  },
  {
   "cell_type": "code",
   "execution_count": null,
   "metadata": {},
   "outputs": [],
   "source": []
  }
 ],
 "metadata": {
  "kernelspec": {
   "display_name": "Python 3",
   "language": "python",
   "name": "python3"
  },
  "language_info": {
   "codemirror_mode": {
    "name": "ipython",
    "version": 3
   },
   "file_extension": ".py",
   "mimetype": "text/x-python",
   "name": "python",
   "nbconvert_exporter": "python",
   "pygments_lexer": "ipython3",
   "version": "3.10.11"
  }
 },
 "nbformat": 4,
 "nbformat_minor": 2
}
