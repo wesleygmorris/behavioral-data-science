{
 "cells": [
  {
   "cell_type": "code",
   "execution_count": 21,
   "metadata": {},
   "outputs": [],
   "source": [
    "from dotenv import load_dotenv\n",
    "import os\n",
    "import openai\n",
    "import time\n",
    "load_dotenv() \n",
    "openai.api_key = os.getenv('OPEN_AI')"
   ]
  },
  {
   "cell_type": "code",
   "execution_count": 14,
   "metadata": {},
   "outputs": [],
   "source": [
    "'''\n",
    "This cell imports the dependencies and creates the service context.\n",
    "The service context can either be OpenAI or Tiny-Vicuna-1B\n",
    "'''\n",
    "from llama_index import VectorStoreIndex, SimpleDirectoryReader\n",
    "from llama_index import ServiceContext, llms, PromptTemplate, set_global_service_context\n",
    "\n",
    "# For chatGPT\n",
    "service_context = ServiceContext.from_defaults(\n",
    "    llm=llms.OpenAI(temperature=0.20, model=\"gpt-3.5-turbo\")\n",
    ")\n",
    "\n",
    "# For Vicuna\n",
    "# service_context = ServiceContext.from_defaults(\n",
    "#   llm = llms.HuggingFaceLLM(\n",
    "#     model_name = \"Jiayi-Pan/Tiny-Vicuna-1B\",\n",
    "#     tokenizer_name = \"Jiayi-Pan/Tiny-Vicuna-1B\",\n",
    "#     query_wrapper_prompt = PromptTemplate(\"<|system|>\\nYou are a chatbot who can help students!</s>\\n<|user|>\\n{query_str}</s>\\n<|assistant|>\\n\"),\n",
    "#     device_map = \"balanced\"\n",
    "#   ),\n",
    "#   embed_model = llms.HuggingFaceLLM(model_name='microsoft/mpnet-base',\n",
    "#                                     tokenizer_name='microsoft/mpnet-base')\n",
    "# )\n"
   ]
  },
  {
   "cell_type": "code",
   "execution_count": 15,
   "metadata": {},
   "outputs": [
    {
     "name": "stderr",
     "output_type": "stream",
     "text": [
      "Parsing nodes: 100%|██████████| 7/7 [00:00<00:00, 631.92it/s]\n",
      "Generating embeddings: 100%|██████████| 7/7 [00:00<00:00, 19.21it/s]\n"
     ]
    }
   ],
   "source": [
    "set_global_service_context(service_context)\n",
    "# Create the vector store\n",
    "documents = SimpleDirectoryReader(\"documents\").load_data()\n",
    "index = VectorStoreIndex.from_documents(documents, service_context=service_context,\n",
    "                                        show_progress=True)\n",
    "# Save the vector store to file\n",
    "index.storage_context.persist('./index_storage/')\n",
    "# Build the query engine\n",
    "query_engine = index.as_query_engine(\n",
    "    response_mode=\"tree_summarize\",\n",
    "    similarity_top_k=3\n",
    ")"
   ]
  },
  {
   "cell_type": "code",
   "execution_count": 43,
   "metadata": {},
   "outputs": [
    {
     "data": {
      "text/plain": [
       "('The class is graded based on activities and a final project. There will be a total of 12 activities throughout the semester, but only the 10 best activity grades will count towards the final grade. Each activity is worth 14 points, making up 70% of the final grade. The final project is worth 60 points, which accounts for 30% of the final grade. The grading scale is provided, ranging from A to F, with specific percentage ranges for each grade. Late work is accepted but will be worth 80% of the overall grade for the activity.',\n",
       " 2.421814441680908,\n",
       " ['2', '3', '6'],\n",
       " {'PSY-GS-8875_Syllabus_S2024.pdf'})"
      ]
     },
     "execution_count": 43,
     "metadata": {},
     "output_type": "execute_result"
    }
   ],
   "source": [
    "# Define a function to put it all together and run the function\n",
    "def get_response(query):\n",
    "    st = time.time()\n",
    "    response = query_engine.query(query)\n",
    "    time_elapsed = time.time()-st\n",
    "    page_numbers = [response.metadata[i]['page_label'] for i in response.metadata]\n",
    "    document_labels = set([response.metadata[i]['file_name'] for i in response.metadata])\n",
    "    return response.response, time_elapsed, page_numbers, document_labels\n",
    "\n",
    "get_response('How is the class graded?')"
   ]
  },
  {
   "cell_type": "code",
   "execution_count": 41,
   "metadata": {},
   "outputs": [],
   "source": [
    "# Load the vector store from file and run the query again\n",
    "from llama_index import StorageContext, load_index_from_storage\n",
    "storage_context = StorageContext.from_defaults(\n",
    "    persist_dir='./index_storage/'\n",
    ")\n",
    "index = load_index_from_storage(storage_context)\n",
    "get_response('How is the class graded?')"
   ]
  }
 ],
 "metadata": {
  "kernelspec": {
   "display_name": "Python 3",
   "language": "python",
   "name": "python3"
  },
  "language_info": {
   "codemirror_mode": {
    "name": "ipython",
    "version": 3
   },
   "file_extension": ".py",
   "mimetype": "text/x-python",
   "name": "python",
   "nbconvert_exporter": "python",
   "pygments_lexer": "ipython3",
   "version": "3.10.11"
  }
 },
 "nbformat": 4,
 "nbformat_minor": 2
}
