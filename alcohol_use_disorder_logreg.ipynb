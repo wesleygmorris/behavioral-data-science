{
 "cells": [
  {
   "cell_type": "code",
   "execution_count": 1,
   "metadata": {},
   "outputs": [],
   "source": [
    "import pandas as pd\n",
    "import os"
   ]
  },
  {
   "cell_type": "code",
   "execution_count": 2,
   "metadata": {},
   "outputs": [],
   "source": [
    "data = './data/kaggle/'\n",
    "seed = 42"
   ]
  },
  {
   "cell_type": "code",
   "execution_count": 3,
   "metadata": {},
   "outputs": [],
   "source": [
    "train_data = pd.read_csv(data+'kaggle_train.csv')\n",
    "test_data = pd.read_csv(data+'kaggle_test.csv')\n",
    "test_ids = test_data.pop('ID')\n",
    "train_ids = train_data.pop('ID')\n",
    "train_y = train_data.pop('TARGET')"
   ]
  },
  {
   "cell_type": "code",
   "execution_count": 4,
   "metadata": {},
   "outputs": [
    {
     "name": "stdout",
     "output_type": "stream",
     "text": [
      "ZERO INFO\n",
      "              precision    recall  f1-score   support\n",
      "\n",
      "           0       1.00      0.52      0.68       411\n",
      "           1       0.00      0.00      0.00         0\n",
      "\n",
      "    accuracy                           0.52       411\n",
      "   macro avg       0.50      0.26      0.34       411\n",
      "weighted avg       1.00      0.52      0.68       411\n",
      "\n",
      "VANILLA LOGISTIC REGRESSION\n",
      "              precision    recall  f1-score   support\n",
      "\n",
      "           0       0.58      0.64      0.61       194\n",
      "           1       0.65      0.59      0.62       217\n",
      "\n",
      "    accuracy                           0.62       411\n",
      "   macro avg       0.62      0.62      0.62       411\n",
      "weighted avg       0.62      0.62      0.62       411\n",
      "\n",
      "CV LOGISTIC REGRESSION\n",
      "              precision    recall  f1-score   support\n",
      "\n",
      "           0       0.58      0.64      0.61       194\n",
      "           1       0.65      0.59      0.62       217\n",
      "\n",
      "    accuracy                           0.62       411\n",
      "   macro avg       0.62      0.62      0.62       411\n",
      "weighted avg       0.62      0.62      0.62       411\n",
      "\n"
     ]
    },
    {
     "name": "stderr",
     "output_type": "stream",
     "text": [
      "c:\\Users\\morriwg1\\Anaconda3\\envs\\ml\\lib\\site-packages\\sklearn\\metrics\\_classification.py:1469: UndefinedMetricWarning: Recall and F-score are ill-defined and being set to 0.0 in labels with no true samples. Use `zero_division` parameter to control this behavior.\n",
      "  _warn_prf(average, modifier, msg_start, len(result))\n",
      "c:\\Users\\morriwg1\\Anaconda3\\envs\\ml\\lib\\site-packages\\sklearn\\metrics\\_classification.py:1469: UndefinedMetricWarning: Recall and F-score are ill-defined and being set to 0.0 in labels with no true samples. Use `zero_division` parameter to control this behavior.\n",
      "  _warn_prf(average, modifier, msg_start, len(result))\n",
      "c:\\Users\\morriwg1\\Anaconda3\\envs\\ml\\lib\\site-packages\\sklearn\\metrics\\_classification.py:1469: UndefinedMetricWarning: Recall and F-score are ill-defined and being set to 0.0 in labels with no true samples. Use `zero_division` parameter to control this behavior.\n",
      "  _warn_prf(average, modifier, msg_start, len(result))\n"
     ]
    }
   ],
   "source": [
    "from sklearn.model_selection import train_test_split\n",
    "from sklearn.metrics import classification_report\n",
    "from sklearn.linear_model import LogisticRegressionCV, LogisticRegression\n",
    "\n",
    "X_train, X_test, y_train, y_test = train_test_split(train_data, train_y, test_size=0.2, random_state=seed)\n",
    "\n",
    "zero_info_preds = pd.Series([0]).repeat(len(y_test))\n",
    "\n",
    "\n",
    "vanilla_log = LogisticRegression(random_state=42).fit(X_train, y_train)\n",
    "vanilla_preds = vanilla_log.predict(X_test)\n",
    "\n",
    "cv_log = LogisticRegressionCV(random_state=seed, cv=5, Cs=10).fit(X_train, y_train)\n",
    "cv_preds = cv_log.predict(X_test)\n",
    "\n",
    "actual = y_test\n",
    "print('ZERO INFO')\n",
    "print(classification_report(zero_info_preds, actual))\n",
    "print('VANILLA LOGISTIC REGRESSION')\n",
    "print(classification_report(vanilla_preds, actual))\n",
    "print('CV LOGISTIC REGRESSION')\n",
    "print(classification_report(cv_preds, actual))"
   ]
  },
  {
   "cell_type": "code",
   "execution_count": 5,
   "metadata": {},
   "outputs": [],
   "source": [
    "zero_info_preds = pd.Series([0]).repeat(len(test_data)).reset_index(drop=True)\n",
    "zero_info_submission = pd.DataFrame({'ID': test_ids, 'TARGET': zero_info_preds})\n",
    "# zero_info_submission.to_csv('./results/WESLEY_MORRIS_baseline_model.csv', index=False)"
   ]
  },
  {
   "cell_type": "code",
   "execution_count": 6,
   "metadata": {},
   "outputs": [],
   "source": [
    "from sklearn.linear_model import LogisticRegressionCV, LogisticRegression\n",
    "vanilla_log = LogisticRegression(random_state=42).fit(train_data, train_y)\n",
    "preds = vanilla_log.predict(test_data)\n",
    "vanilla_log_submission = pd.DataFrame({'ID': test_ids, 'TARGET': preds})\n",
    "# vanilla_log_submission.to_csv('./results/WESLEY_MORRIS_vanilla_logistic.csv', index=False)"
   ]
  },
  {
   "cell_type": "code",
   "execution_count": 7,
   "metadata": {},
   "outputs": [],
   "source": [
    "from sklearn.linear_model import LogisticRegressionCV, LogisticRegression\n",
    "CV_log = LogisticRegressionCV(random_state=42, Cs=10, cv=10).fit(train_data, train_y)\n",
    "preds = CV_log.predict(test_data)\n",
    "CV_log_submission = pd.DataFrame({'ID': test_ids, 'TARGET': preds})\n",
    "# CV_log_submission.to_csv('./results/WESLEY_MORRIS_lasso_logistic.csv', index=False)"
   ]
  }
 ],
 "metadata": {
  "kernelspec": {
   "display_name": "ml",
   "language": "python",
   "name": "python3"
  },
  "language_info": {
   "codemirror_mode": {
    "name": "ipython",
    "version": 3
   },
   "file_extension": ".py",
   "mimetype": "text/x-python",
   "name": "python",
   "nbconvert_exporter": "python",
   "pygments_lexer": "ipython3",
   "version": "3.9.18"
  }
 },
 "nbformat": 4,
 "nbformat_minor": 2
}
