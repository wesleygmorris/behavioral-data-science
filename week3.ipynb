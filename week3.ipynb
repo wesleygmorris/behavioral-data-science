{
 "cells": [
  {
   "cell_type": "code",
   "execution_count": 168,
   "metadata": {},
   "outputs": [],
   "source": [
    "import pandas as pd\n",
    "import numpy as np\n",
    "seed = 42"
   ]
  },
  {
   "cell_type": "code",
   "execution_count": 169,
   "metadata": {},
   "outputs": [],
   "source": [
    "df =pd.read_csv('C:\\\\Users\\\\morriwg1\\\\OneDrive - Vanderbilt\\\\Documents\\\\GitHub\\\\behavioral-data-science\\\\behavioral-data-science\\\\data\\\\student_math\\\\student_math_clean.csv')\n",
    "df = df[['study_time', 'class_failures', 'school_support', 'family_support', 'higher_ed', 'internet_access', 'health', 'absences', 'extra_paid_classes']]\n",
    "# Convert outcome variable to integer\n",
    "df['extra_paid_classes'].replace(to_replace='yes', value=1, inplace=True)\n",
    "df['extra_paid_classes'].replace(to_replace='no', value=0, inplace=True)\n",
    "# Convert all categorical variables to dummy variables\n",
    "df = pd.get_dummies(df, drop_first=True)"
   ]
  },
  {
   "cell_type": "code",
   "execution_count": 170,
   "metadata": {},
   "outputs": [
    {
     "data": {
      "text/plain": [
       "Index(['class_failures', 'health', 'absences', 'extra_paid_classes',\n",
       "       'study_time_5 to 10 hours', 'study_time_<2 hours',\n",
       "       'study_time_>10 hours', 'school_support_yes', 'family_support_yes',\n",
       "       'higher_ed_yes', 'internet_access_yes'],\n",
       "      dtype='object')"
      ]
     },
     "execution_count": 170,
     "metadata": {},
     "output_type": "execute_result"
    }
   ],
   "source": [
    "df.columns"
   ]
  },
  {
   "cell_type": "code",
   "execution_count": 174,
   "metadata": {},
   "outputs": [],
   "source": [
    "X = df[['class_failures', 'health', 'absences',\n",
    "       'study_time_5 to 10 hours', 'study_time_<2 hours',\n",
    "       'study_time_>10 hours', 'school_support_yes', 'family_support_yes',\n",
    "       'higher_ed_yes', 'internet_access_yes']]\n",
    "Y = df['extra_paid_classes']\n",
    "\n",
    "from sklearn.model_selection import train_test_split\n",
    "X_train, X_test, Y_train, Y_test = train_test_split(X, Y, test_size=0.2, random_state=seed)"
   ]
  },
  {
   "cell_type": "markdown",
   "metadata": {},
   "source": [
    "## Logistic Regression using K-Fold Cross-Validation"
   ]
  },
  {
   "cell_type": "code",
   "execution_count": 175,
   "metadata": {},
   "outputs": [
    {
     "name": "stdout",
     "output_type": "stream",
     "text": [
      "Classification F1: 62.981% (sd = 6.958%)\n"
     ]
    }
   ],
   "source": [
    "from sklearn.model_selection import KFold\n",
    "from sklearn.model_selection import cross_val_score\n",
    "from sklearn.linear_model import LogisticRegression\n",
    "\n",
    "k = 5\n",
    "\n",
    "kfold = KFold(n_splits=k, random_state=seed, shuffle=True)\n",
    "model = LogisticRegression()\n",
    "results = cross_val_score(model, X_train, Y_train, cv=kfold, scoring='accuracy')\n",
    "# Output the accuracy. Calculate the mean and sd across all folds.\n",
    "print(\"Classification F1: %.3f%% (sd = %.3f%%)\" % (results.mean()*100.0, results.std()*100.0))"
   ]
  },
  {
   "cell_type": "markdown",
   "metadata": {},
   "source": [
    "## Bootstrapping"
   ]
  },
  {
   "cell_type": "code",
   "execution_count": 176,
   "metadata": {},
   "outputs": [
    {
     "name": "stdout",
     "output_type": "stream",
     "text": [
      "Bootstrapped Mean F1 = 0.6663492063492064\n"
     ]
    }
   ],
   "source": [
    "from sklearn.utils import resample\n",
    "from sklearn.metrics import accuracy_score\n",
    "\n",
    "models_accuracy=[]\n",
    "split = round(len(X_train)*0.8) # this defines the split\n",
    "num_iters = 100\n",
    "\n",
    "for i in range(num_iters):\n",
    "    # resample the training set with replacement\n",
    "    X_boot = resample(X_train, replace=True, n_samples=len(X_train), random_state=i)\n",
    "    # collect outcomes with the same indices\n",
    "    Y_boot = Y_train[X_boot.index]\n",
    "\n",
    "    # convert the bootstrapped sample into train and test sets\n",
    "    X_boot_train = X_boot.reset_index(drop=True)[:split]\n",
    "    Y_boot_train = Y_boot.reset_index(drop=True)[:split].values.ravel()\n",
    "    X_boot_test = X_boot.reset_index(drop=True)[split:]\n",
    "    Y_boot_test = Y_boot.reset_index(drop=True)[split:].values.ravel()\n",
    "\n",
    "    # train the model\n",
    "    model = LogisticRegression(max_iter=1000)\n",
    "    model.fit(X_boot_train, Y_boot_train)\n",
    "\n",
    "    # test the model against the bootstrapped test set\n",
    "    Y_boot_pred = model.predict(X_boot_test)\n",
    "    accuracy = accuracy_score(Y_boot_test, Y_boot_pred)\n",
    "    \n",
    "    # add the accuracy to the list\n",
    "    models_accuracy.append(accuracy)\n",
    "\n",
    "# print the average accuracy of the bootstrapped samples\n",
    "print(\"Bootstrapped Mean F1 = {}\".format(sum(models_accuracy)/num_iters))"
   ]
  },
  {
   "cell_type": "markdown",
   "metadata": {},
   "source": [
    "## Train and Test the Logistic Regression Model"
   ]
  },
  {
   "cell_type": "code",
   "execution_count": 182,
   "metadata": {},
   "outputs": [
    {
     "data": {
      "image/png": "[encoded data removed]",
      "text/plain": [
       "<Figure size 700x500 with 2 Axes>"
      ]
     },
     "metadata": {},
     "output_type": "display_data"
    }
   ],
   "source": [
    "from sklearn.metrics import confusion_matrix\n",
    "from sklearn.metrics import classification_report\n",
    "import seaborn as sns\n",
    "from matplotlib import pyplot as plt\n",
    "import statsmodels.api as sm \n",
    "\n",
    "model = LogisticRegression()\n",
    "model.fit(X_train, Y_train)\n",
    "predicted = model.predict(X_test)\n",
    "matrix = np.array(confusion_matrix(Y_test, predicted))\n",
    "fig, ax = plt.subplots(figsize=(7,5)) \n",
    "sns.heatmap(pd.DataFrame(matrix, index=['Yes', 'No'], columns = ['Yes', 'No']), annot=True, fmt='g', ax=ax)\n",
    "plt.title('Logistic Regression Confusion Matrix')\n",
    "plt.xlabel('Predicted Label')\n",
    "plt.ylabel('Actual Label')\n",
    "plt.show()"
   ]
  },
  {
   "cell_type": "code",
   "execution_count": 183,
   "metadata": {},
   "outputs": [
    {
     "name": "stdout",
     "output_type": "stream",
     "text": [
      "Logistic Regression Classification Report\n",
      "              precision    recall  f1-score   support\n",
      "\n",
      "           0       0.67      0.65      0.66        43\n",
      "           1       0.59      0.61      0.60        36\n",
      "\n",
      "    accuracy                           0.63        79\n",
      "   macro avg       0.63      0.63      0.63        79\n",
      "weighted avg       0.63      0.63      0.63        79\n",
      "\n"
     ]
    }
   ],
   "source": [
    "report = classification_report(Y_test, predicted)\n",
    "print('Logistic Regression Classification Report')\n",
    "print(report)"
   ]
  },
  {
   "cell_type": "code",
   "execution_count": 193,
   "metadata": {},
   "outputs": [
    {
     "data": {
      "text/html": [
       "<div>\n",
       "<style scoped>\n",
       "    .dataframe tbody tr th:only-of-type {\n",
       "        vertical-align: middle;\n",
       "    }\n",
       "\n",
       "    .dataframe tbody tr th {\n",
       "        vertical-align: top;\n",
       "    }\n",
       "\n",
       "    .dataframe thead th {\n",
       "        text-align: right;\n",
       "    }\n",
       "</style>\n",
       "<table border=\"1\" class=\"dataframe\">\n",
       "  <thead>\n",
       "    <tr style=\"text-align: right;\">\n",
       "      <th></th>\n",
       "      <th>predictors</th>\n",
       "      <th>coefficients</th>\n",
       "      <th>p</th>\n",
       "    </tr>\n",
       "  </thead>\n",
       "  <tbody>\n",
       "    <tr>\n",
       "      <th>0</th>\n",
       "      <td>intercept</td>\n",
       "      <td>-2.588051</td>\n",
       "      <td></td>\n",
       "    </tr>\n",
       "    <tr>\n",
       "      <th>1</th>\n",
       "      <td>class_failures</td>\n",
       "      <td>-0.409963</td>\n",
       "      <td>0.000025</td>\n",
       "    </tr>\n",
       "    <tr>\n",
       "      <th>2</th>\n",
       "      <td>health</td>\n",
       "      <td>-0.059309</td>\n",
       "      <td>0.328017</td>\n",
       "    </tr>\n",
       "    <tr>\n",
       "      <th>3</th>\n",
       "      <td>absences</td>\n",
       "      <td>-0.002089</td>\n",
       "      <td>0.634468</td>\n",
       "    </tr>\n",
       "    <tr>\n",
       "      <th>4</th>\n",
       "      <td>study_time_5 to 10 hours</td>\n",
       "      <td>-0.022814</td>\n",
       "      <td>0.454721</td>\n",
       "    </tr>\n",
       "    <tr>\n",
       "      <th>5</th>\n",
       "      <td>study_time_&lt;2 hours</td>\n",
       "      <td>-0.447924</td>\n",
       "      <td>0.009977</td>\n",
       "    </tr>\n",
       "    <tr>\n",
       "      <th>6</th>\n",
       "      <td>study_time_&gt;10 hours</td>\n",
       "      <td>0.352357</td>\n",
       "      <td>0.055998</td>\n",
       "    </tr>\n",
       "    <tr>\n",
       "      <th>7</th>\n",
       "      <td>school_support_yes</td>\n",
       "      <td>-0.420614</td>\n",
       "      <td>0.718861</td>\n",
       "    </tr>\n",
       "    <tr>\n",
       "      <th>8</th>\n",
       "      <td>family_support_yes</td>\n",
       "      <td>1.095675</td>\n",
       "      <td>0.000695</td>\n",
       "    </tr>\n",
       "    <tr>\n",
       "      <th>9</th>\n",
       "      <td>higher_ed_yes</td>\n",
       "      <td>1.632404</td>\n",
       "      <td>0.336967</td>\n",
       "    </tr>\n",
       "    <tr>\n",
       "      <th>10</th>\n",
       "      <td>internet_access_yes</td>\n",
       "      <td>0.778448</td>\n",
       "      <td>0.246441</td>\n",
       "    </tr>\n",
       "  </tbody>\n",
       "</table>\n",
       "</div>"
      ],
      "text/plain": [
       "                  predictors  coefficients         p\n",
       "0                  intercept     -2.588051          \n",
       "1             class_failures     -0.409963  0.000025\n",
       "2                     health     -0.059309  0.328017\n",
       "3                   absences     -0.002089  0.634468\n",
       "4   study_time_5 to 10 hours     -0.022814  0.454721\n",
       "5        study_time_<2 hours     -0.447924  0.009977\n",
       "6       study_time_>10 hours      0.352357  0.055998\n",
       "7         school_support_yes     -0.420614  0.718861\n",
       "8         family_support_yes      1.095675  0.000695\n",
       "9              higher_ed_yes      1.632404  0.336967\n",
       "10       internet_access_yes      0.778448  0.246441"
      ]
     },
     "execution_count": 193,
     "metadata": {},
     "output_type": "execute_result"
    }
   ],
   "source": [
    "predictors = ['intercept']\n",
    "coefficients = [model.intercept_[0]]\n",
    "p = ['']\n",
    "\n",
    "scores, pvals = chi2(X_train, Y_train)\n",
    "for i in range(len(X_train.columns)):\n",
    "    predictors.append(list(X_train.columns)[i]) \n",
    "    coefficients.append(model.coef_[0][i])\n",
    "    p.append(pvals[i])\n",
    "\n",
    "pd.DataFrame({'predictors':predictors, 'coefficients': coefficients, 'p':p})"
   ]
  }
 ],
 "metadata": {
  "kernelspec": {
   "display_name": "Python 3",
   "language": "python",
   "name": "python3"
  },
  "language_info": {
   "codemirror_mode": {
    "name": "ipython",
    "version": 3
   },
   "file_extension": ".py",
   "mimetype": "text/x-python",
   "name": "python",
   "nbconvert_exporter": "python",
   "pygments_lexer": "ipython3",
   "version": "3.10.11"
  }
 },
 "nbformat": 4,
 "nbformat_minor": 2
}
